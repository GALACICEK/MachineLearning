{
 "cells": [
  {
   "cell_type": "code",
   "execution_count": 3,
   "metadata": {},
   "outputs": [],
   "source": [
    "import pandas as pd\n",
    "import numpy as np\n",
    "import matplotlib as plt\n",
    "import statsmodels as sm\n",
    "import sklearn\n",
    "import graphviz\n",
    "import scipy\n",
    "\n",
    "import pyarrow\n",
    "import bottleneck"
   ]
  },
  {
   "cell_type": "code",
   "execution_count": 4,
   "metadata": {},
   "outputs": [
    {
     "name": "stdout",
     "output_type": "stream",
     "text": [
      "pandas modülü versiyonu: 2.2.0\n",
      "numpy modülü versiyonu: 1.26.2\n",
      "matplotlib modülü versiyonu: 3.8.2\n",
      "scikit-learn modülü versiyonu: 1.3.2\n",
      "statsmodels modülü versiyonu: 0.14.0\n",
      "graphviz modülü versiyonu: 0.20.1\n",
      "scipy modülü versiyonu: 1.11.4\n",
      "pyarrow modülü versiyonu: 14.0.2\n",
      "bottleneck modülü versiyonu: 1.3.5\n"
     ]
    }
   ],
   "source": [
    "print(\"pandas modülü versiyonu:\", pd.__version__)\n",
    "print(\"numpy modülü versiyonu:\", np.__version__)\n",
    "print(\"matplotlib modülü versiyonu:\", plt.__version__)\n",
    "print(\"scikit-learn modülü versiyonu:\", sklearn.__version__)\n",
    "print(\"statsmodels modülü versiyonu:\", sm.__version__)\n",
    "print(\"graphviz modülü versiyonu:\", graphviz.__version__)\n",
    "print(\"scipy modülü versiyonu:\", scipy.__version__)\n",
    "\n",
    "print(\"pyarrow modülü versiyonu:\", pyarrow.__version__)\n",
    "print(\"bottleneck modülü versiyonu:\", bottleneck.__version__)\n"
   ]
  }
 ],
 "metadata": {
  "kernelspec": {
   "display_name": "Python 3",
   "language": "python",
   "name": "python3"
  },
  "language_info": {
   "codemirror_mode": {
    "name": "ipython",
    "version": 3
   },
   "file_extension": ".py",
   "mimetype": "text/x-python",
   "name": "python",
   "nbconvert_exporter": "python",
   "pygments_lexer": "ipython3",
   "version": "3.10.13"
  }
 },
 "nbformat": 4,
 "nbformat_minor": 2
}
