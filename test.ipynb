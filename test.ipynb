{
 "cells": [
  {
   "cell_type": "code",
   "execution_count": 1,
   "metadata": {},
   "outputs": [],
   "source": [
    "import sys\n",
    "import pandas as pd\n",
    "import numpy as np\n",
    "import matplotlib as plt\n",
    "\n",
    "import statsmodels as sm\n",
    "import sklearn\n",
    "import graphviz\n",
    "import scipy\n",
    "\n",
    "import pyarrow\n",
    "import bottleneck\n",
    "import pydot\n",
    "\n",
    "import nltk"
   ]
  },
  {
   "cell_type": "code",
   "execution_count": 2,
   "metadata": {},
   "outputs": [
    {
     "name": "stdout",
     "output_type": "stream",
     "text": [
      "Python version: 3.10.14\n",
      "\n",
      "pandas modülü version: 2.2.0\n",
      "numpy modülü version: 1.26.4\n",
      "matplotlib modülü version: 3.8.2\n",
      "scikit-learn modülü version: 1.3.2\n",
      "statsmodels modülü version: 0.14.0\n",
      "graphviz modülü version: 0.20.1\n",
      "scipy modülü version: 1.11.4\n",
      "pyarrow modülü version: 14.0.2\n",
      "bottleneck modülü version: 1.3.6\n",
      "pydot modülü version: 3.0.1\n",
      "nltk modülü version: 3.8.1\n"
     ]
    }
   ],
   "source": [
    "print(f\"Python version: {sys.version_info.major}.{sys.version_info.minor}.{sys.version_info.micro}\"+\"\\n\")\n",
    "print(\"pandas modülü version:\", pd.__version__)\n",
    "print(\"numpy modülü version:\", np.__version__)\n",
    "print(\"matplotlib modülü version:\", plt.__version__)\n",
    "\n",
    "print(\"scikit-learn modülü version:\", sklearn.__version__)\n",
    "print(\"statsmodels modülü version:\", sm.__version__)\n",
    "print(\"graphviz modülü version:\", graphviz.__version__)\n",
    "print(\"scipy modülü version:\", scipy.__version__)\n",
    "\n",
    "print(\"pyarrow modülü version:\", pyarrow.__version__)\n",
    "print(\"bottleneck modülü version:\", bottleneck.__version__)\n",
    "print(\"pydot modülü version:\", pydot.__version__)\n",
    "print(\"nltk modülü version:\", nltk.__version__)\n"
   ]
  },
  {
   "cell_type": "code",
   "execution_count": 3,
   "metadata": {},
   "outputs": [
    {
     "name": "stdout",
     "output_type": "stream",
     "text": [
      "TensorFlow version: 2.17.0\n",
      "Keras version: 3.5.0\n"
     ]
    }
   ],
   "source": [
    "import tensorflow as tf\n",
    "print(\"TensorFlow version:\", tf.__version__)\n",
    "\n",
    "import tensorflow.keras as keras\n",
    "print(\"Keras version:\", keras.__version__)\n"
   ]
  },
  {
   "cell_type": "code",
   "execution_count": 4,
   "metadata": {},
   "outputs": [
    {
     "name": "stdout",
     "output_type": "stream",
     "text": [
      "xgboost modülü version: 2.1.1\n"
     ]
    }
   ],
   "source": [
    "import xgboost\n",
    "\n",
    "print(\"xgboost modülü version:\", xgboost.__version__)"
   ]
  }
 ],
 "metadata": {
  "kernelspec": {
   "display_name": "Python 3",
   "language": "python",
   "name": "python3"
  },
  "language_info": {
   "codemirror_mode": {
    "name": "ipython",
    "version": 3
   },
   "file_extension": ".py",
   "mimetype": "text/x-python",
   "name": "python",
   "nbconvert_exporter": "python",
   "pygments_lexer": "ipython3",
   "version": "3.10.14"
  }
 },
 "nbformat": 4,
 "nbformat_minor": 2
}
