{
 "cells": [
  {
   "cell_type": "code",
   "execution_count": 29,
   "metadata": {},
   "outputs": [],
   "source": [
    "import pandas as pd\n",
    "import numpy as np\n",
    "import matplotlib as plt\n",
    "import statsmodels as sm\n",
    "import sklearn"
   ]
  },
  {
   "cell_type": "code",
   "execution_count": 30,
   "metadata": {},
   "outputs": [
    {
     "name": "stdout",
     "output_type": "stream",
     "text": [
      "pandas modülü versiyonu: 2.1.4\n",
      "numpy modülü versiyonu: 1.26.2\n",
      "matplotlib modülü versiyonu: 3.8.2\n",
      "scikit-learn modülü versiyonu: 1.3.2\n",
      "statsmodels modülü versiyonu: 0.14.0\n"
     ]
    }
   ],
   "source": [
    "print(\"pandas modülü versiyonu:\", pd.__version__)\n",
    "print(\"numpy modülü versiyonu:\", np.__version__)\n",
    "print(\"matplotlib modülü versiyonu:\", plt.__version__)\n",
    "print(\"scikit-learn modülü versiyonu:\", sklearn.__version__)\n",
    "print(\"statsmodels modülü versiyonu:\", sm.__version__)\n"
   ]
  }
 ],
 "metadata": {
  "kernelspec": {
   "display_name": "Python 3",
   "language": "python",
   "name": "python3"
  },
  "language_info": {
   "codemirror_mode": {
    "name": "ipython",
    "version": 3
   },
   "file_extension": ".py",
   "mimetype": "text/x-python",
   "name": "python",
   "nbconvert_exporter": "python",
   "pygments_lexer": "ipython3",
   "version": "3.10.13"
  }
 },
 "nbformat": 4,
 "nbformat_minor": 2
}
